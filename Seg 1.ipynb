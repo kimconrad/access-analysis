{
 "cells": [
  {
   "cell_type": "code",
   "execution_count": 1,
   "id": "38b1aa46",
   "metadata": {},
   "outputs": [],
   "source": [
    "## Predictions of whether there is a correlation between Internet access and Income/Population density."
   ]
  },
  {
   "cell_type": "code",
   "execution_count": 2,
   "id": "27cb3c1d",
   "metadata": {},
   "outputs": [],
   "source": [
    "## First Model will be logistic regression ML with Internet access represented as y/n (0/1).  Variables for Income from 0.5 to >= 5.0 (10 discrete) and variables for Population size in US/Puerto Rico counties 0k-100k to >= 1M at 100k Intervals."
   ]
  },
  {
   "cell_type": "code",
   "execution_count": 3,
   "id": "b020b2b0",
   "metadata": {},
   "outputs": [],
   "source": [
    "## Second Model will be unsupervised machine learning with plugging in all variables and determining if any patterns arise.  I'm hoping our supervised machine learning will be able to aid in targeting more accurately our unsupervised ML. "
   ]
  },
  {
   "cell_type": "code",
   "execution_count": 4,
   "id": "004bcdb3",
   "metadata": {},
   "outputs": [],
   "source": [
    "## If there is time, we would also like to look at other variables with potention impact i.e. education"
   ]
  }
 ],
 "metadata": {
  "kernelspec": {
   "display_name": "Python 3 (ipykernel)",
   "language": "python",
   "name": "python3"
  },
  "language_info": {
   "codemirror_mode": {
    "name": "ipython",
    "version": 3
   },
   "file_extension": ".py",
   "mimetype": "text/x-python",
   "name": "python",
   "nbconvert_exporter": "python",
   "pygments_lexer": "ipython3",
   "version": "3.9.7"
  }
 },
 "nbformat": 4,
 "nbformat_minor": 5
}
